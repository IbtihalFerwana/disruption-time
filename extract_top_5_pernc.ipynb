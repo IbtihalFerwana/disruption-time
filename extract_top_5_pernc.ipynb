{
 "cells": [
  {
   "cell_type": "code",
   "execution_count": 1,
   "id": "f493cd1c",
   "metadata": {},
   "outputs": [],
   "source": [
    "import pandas as pd\n",
    "import numpy as np\n",
    "import json\n",
    "import matplotlib.pyplot as plt\n",
    "import time"
   ]
  },
  {
   "cell_type": "code",
   "execution_count": 622,
   "id": "f0ee37a7",
   "metadata": {},
   "outputs": [],
   "source": [
    "from multiprocessing import Pool"
   ]
  },
  {
   "cell_type": "markdown",
   "id": "479e8f1a",
   "metadata": {},
   "source": [
    "#### reading data and preprocessing"
   ]
  },
  {
   "cell_type": "code",
   "execution_count": 2,
   "id": "6ce7a4fb",
   "metadata": {},
   "outputs": [],
   "source": [
    "aminer = pd.read_csv('preprocessed_data/aminer_computer.csv',index_col=0)"
   ]
  },
  {
   "cell_type": "code",
   "execution_count": 97,
   "id": "e72461aa",
   "metadata": {},
   "outputs": [],
   "source": [
    "aminer = aminer[(aminer['year'] >= 1950) & (aminer['year'] <= 2022) ]"
   ]
  },
  {
   "cell_type": "code",
   "execution_count": 98,
   "id": "d6c4df3a",
   "metadata": {},
   "outputs": [
    {
     "data": {
      "text/plain": [
       "2793910"
      ]
     },
     "execution_count": 98,
     "metadata": {},
     "output_type": "execute_result"
    }
   ],
   "source": [
    "len(aminer)"
   ]
  },
  {
   "cell_type": "code",
   "execution_count": 3,
   "id": "72ebecad",
   "metadata": {},
   "outputs": [],
   "source": [
    "cites = pd.read_csv('preprocessed_data/aminer_oc_oct13.csv')"
   ]
  },
  {
   "cell_type": "code",
   "execution_count": 5,
   "id": "260cdf31",
   "metadata": {},
   "outputs": [],
   "source": [
    "pub_year_map = dict(zip(aminer['doi'],aminer['year']))"
   ]
  },
  {
   "cell_type": "code",
   "execution_count": 12,
   "id": "b5cd533d",
   "metadata": {},
   "outputs": [],
   "source": [
    "cites1 = cites.copy()"
   ]
  },
  {
   "cell_type": "code",
   "execution_count": 10,
   "id": "79aaea16",
   "metadata": {},
   "outputs": [
    {
     "data": {
      "text/html": [
       "<div>\n",
       "<style scoped>\n",
       "    .dataframe tbody tr th:only-of-type {\n",
       "        vertical-align: middle;\n",
       "    }\n",
       "\n",
       "    .dataframe tbody tr th {\n",
       "        vertical-align: top;\n",
       "    }\n",
       "\n",
       "    .dataframe thead th {\n",
       "        text-align: right;\n",
       "    }\n",
       "</style>\n",
       "<table border=\"1\" class=\"dataframe\">\n",
       "  <thead>\n",
       "    <tr style=\"text-align: right;\">\n",
       "      <th></th>\n",
       "      <th>doi</th>\n",
       "      <th>citing</th>\n",
       "      <th>cited</th>\n",
       "      <th>citing_pub_year</th>\n",
       "    </tr>\n",
       "  </thead>\n",
       "  <tbody>\n",
       "    <tr>\n",
       "      <th>0</th>\n",
       "      <td>10.1007/10703040_16</td>\n",
       "      <td>10.1007/10703040_16</td>\n",
       "      <td>10.1115/1.2817010</td>\n",
       "      <td>1999.0</td>\n",
       "    </tr>\n",
       "    <tr>\n",
       "      <th>1</th>\n",
       "      <td>10.1145/3011069</td>\n",
       "      <td>10.1145/3011069</td>\n",
       "      <td>10.1007/bf01201353</td>\n",
       "      <td>2017.0</td>\n",
       "    </tr>\n",
       "    <tr>\n",
       "      <th>2</th>\n",
       "      <td>10.1002/jcc.20495</td>\n",
       "      <td>10.1021/acs.jpcc.9b03963</td>\n",
       "      <td>10.1002/jcc.20495</td>\n",
       "      <td>2019.0</td>\n",
       "    </tr>\n",
       "    <tr>\n",
       "      <th>3</th>\n",
       "      <td>10.3390/e21030240</td>\n",
       "      <td>10.1515/jnet-2018-0099</td>\n",
       "      <td>10.3390/e21030240</td>\n",
       "      <td>2019.0</td>\n",
       "    </tr>\n",
       "    <tr>\n",
       "      <th>4</th>\n",
       "      <td>10.1145/2789168.2790109</td>\n",
       "      <td>10.1145/2999572.2999582</td>\n",
       "      <td>10.1145/2789168.2790109</td>\n",
       "      <td>2016.0</td>\n",
       "    </tr>\n",
       "  </tbody>\n",
       "</table>\n",
       "</div>"
      ],
      "text/plain": [
       "                       doi                    citing                    cited  \\\n",
       "0      10.1007/10703040_16       10.1007/10703040_16        10.1115/1.2817010   \n",
       "1          10.1145/3011069           10.1145/3011069       10.1007/bf01201353   \n",
       "2        10.1002/jcc.20495  10.1021/acs.jpcc.9b03963        10.1002/jcc.20495   \n",
       "3        10.3390/e21030240    10.1515/jnet-2018-0099        10.3390/e21030240   \n",
       "4  10.1145/2789168.2790109   10.1145/2999572.2999582  10.1145/2789168.2790109   \n",
       "\n",
       "   citing_pub_year  \n",
       "0           1999.0  \n",
       "1           2017.0  \n",
       "2           2019.0  \n",
       "3           2019.0  \n",
       "4           2016.0  "
      ]
     },
     "execution_count": 10,
     "metadata": {},
     "output_type": "execute_result"
    }
   ],
   "source": [
    "cites.head()"
   ]
  },
  {
   "cell_type": "code",
   "execution_count": 13,
   "id": "9af5ef97",
   "metadata": {},
   "outputs": [],
   "source": [
    "# cites1['citing_pub_year'] = 0\n",
    "cites1['citing_pub_year'] = cites1['citing'].map(pub_year_map)"
   ]
  },
  {
   "cell_type": "code",
   "execution_count": 14,
   "id": "c0b72c55",
   "metadata": {},
   "outputs": [],
   "source": [
    "cites1['cited_pub_year'] = 0\n",
    "cites1['cited_pub_year'] = cites1['cited'].map(pub_year_map)"
   ]
  },
  {
   "cell_type": "code",
   "execution_count": 9,
   "id": "ebd3b5f5",
   "metadata": {},
   "outputs": [
    {
     "data": {
      "text/plain": [
       "102291001"
      ]
     },
     "execution_count": 9,
     "metadata": {},
     "output_type": "execute_result"
    }
   ],
   "source": [
    "len(cites1)"
   ]
  },
  {
   "cell_type": "code",
   "execution_count": 17,
   "id": "ac679cf6",
   "metadata": {},
   "outputs": [
    {
     "data": {
      "text/plain": [
       "0.4767487611153595"
      ]
     },
     "execution_count": 17,
     "metadata": {},
     "output_type": "execute_result"
    }
   ],
   "source": [
    "len(cites1[cites1['citing_pub_year'].isna()])/len(cites1)"
   ]
  },
  {
   "cell_type": "code",
   "execution_count": 19,
   "id": "c339e18c",
   "metadata": {},
   "outputs": [
    {
     "data": {
      "text/html": [
       "<div>\n",
       "<style scoped>\n",
       "    .dataframe tbody tr th:only-of-type {\n",
       "        vertical-align: middle;\n",
       "    }\n",
       "\n",
       "    .dataframe tbody tr th {\n",
       "        vertical-align: top;\n",
       "    }\n",
       "\n",
       "    .dataframe thead th {\n",
       "        text-align: right;\n",
       "    }\n",
       "</style>\n",
       "<table border=\"1\" class=\"dataframe\">\n",
       "  <thead>\n",
       "    <tr style=\"text-align: right;\">\n",
       "      <th></th>\n",
       "      <th>doi</th>\n",
       "      <th>citing</th>\n",
       "      <th>cited</th>\n",
       "      <th>citing_pub_year</th>\n",
       "      <th>cited_pub_year</th>\n",
       "    </tr>\n",
       "  </thead>\n",
       "  <tbody>\n",
       "    <tr>\n",
       "      <th>0</th>\n",
       "      <td>10.1007/10703040_16</td>\n",
       "      <td>10.1007/10703040_16</td>\n",
       "      <td>10.1115/1.2817010</td>\n",
       "      <td>NaN</td>\n",
       "      <td>NaN</td>\n",
       "    </tr>\n",
       "    <tr>\n",
       "      <th>1</th>\n",
       "      <td>10.1145/3011069</td>\n",
       "      <td>10.1145/3011069</td>\n",
       "      <td>10.1007/bf01201353</td>\n",
       "      <td>NaN</td>\n",
       "      <td>NaN</td>\n",
       "    </tr>\n",
       "    <tr>\n",
       "      <th>2</th>\n",
       "      <td>10.1002/jcc.20495</td>\n",
       "      <td>10.1021/acs.jpcc.9b03963</td>\n",
       "      <td>10.1002/jcc.20495</td>\n",
       "      <td>NaN</td>\n",
       "      <td>2006.0</td>\n",
       "    </tr>\n",
       "    <tr>\n",
       "      <th>3</th>\n",
       "      <td>10.3390/e21030240</td>\n",
       "      <td>10.1515/jnet-2018-0099</td>\n",
       "      <td>10.3390/e21030240</td>\n",
       "      <td>NaN</td>\n",
       "      <td>NaN</td>\n",
       "    </tr>\n",
       "    <tr>\n",
       "      <th>9</th>\n",
       "      <td>10.1016/j.neuroimage.2012.06.064</td>\n",
       "      <td>10.1016/j.nic.2017.09.005</td>\n",
       "      <td>10.1016/j.neuroimage.2012.06.064</td>\n",
       "      <td>NaN</td>\n",
       "      <td>2012.0</td>\n",
       "    </tr>\n",
       "    <tr>\n",
       "      <th>...</th>\n",
       "      <td>...</td>\n",
       "      <td>...</td>\n",
       "      <td>...</td>\n",
       "      <td>...</td>\n",
       "      <td>...</td>\n",
       "    </tr>\n",
       "    <tr>\n",
       "      <th>102290941</th>\n",
       "      <td>10.1016/j.compchemeng.2012.11.011</td>\n",
       "      <td>10.1016/j.compchemeng.2020.107178</td>\n",
       "      <td>10.1016/j.compchemeng.2012.11.011</td>\n",
       "      <td>NaN</td>\n",
       "      <td>2013.0</td>\n",
       "    </tr>\n",
       "    <tr>\n",
       "      <th>102290942</th>\n",
       "      <td>10.1016/j.compchemeng.2020.107178</td>\n",
       "      <td>10.1016/j.compchemeng.2020.107178</td>\n",
       "      <td>10.1016/j.compchemeng.2012.11.011</td>\n",
       "      <td>NaN</td>\n",
       "      <td>2013.0</td>\n",
       "    </tr>\n",
       "    <tr>\n",
       "      <th>102290943</th>\n",
       "      <td>10.1016/j.compchemeng.2020.107178</td>\n",
       "      <td>10.1016/j.compchemeng.2020.107178</td>\n",
       "      <td>10.1016/0959-1524(95)95945-a</td>\n",
       "      <td>NaN</td>\n",
       "      <td>NaN</td>\n",
       "    </tr>\n",
       "    <tr>\n",
       "      <th>102290944</th>\n",
       "      <td>10.1109/tsg.2015.2478971</td>\n",
       "      <td>10.14260/jemds/2018/500</td>\n",
       "      <td>10.1109/tsg.2015.2478971</td>\n",
       "      <td>NaN</td>\n",
       "      <td>2016.0</td>\n",
       "    </tr>\n",
       "    <tr>\n",
       "      <th>102290945</th>\n",
       "      <td>10.1109/tii.2017.2759502</td>\n",
       "      <td>10.14260/jemds/2018/500</td>\n",
       "      <td>10.1109/tii.2017.2759502</td>\n",
       "      <td>NaN</td>\n",
       "      <td>2018.0</td>\n",
       "    </tr>\n",
       "  </tbody>\n",
       "</table>\n",
       "<p>48767108 rows × 5 columns</p>\n",
       "</div>"
      ],
      "text/plain": [
       "                                         doi  \\\n",
       "0                        10.1007/10703040_16   \n",
       "1                            10.1145/3011069   \n",
       "2                          10.1002/jcc.20495   \n",
       "3                          10.3390/e21030240   \n",
       "9           10.1016/j.neuroimage.2012.06.064   \n",
       "...                                      ...   \n",
       "102290941  10.1016/j.compchemeng.2012.11.011   \n",
       "102290942  10.1016/j.compchemeng.2020.107178   \n",
       "102290943  10.1016/j.compchemeng.2020.107178   \n",
       "102290944           10.1109/tsg.2015.2478971   \n",
       "102290945           10.1109/tii.2017.2759502   \n",
       "\n",
       "                                      citing  \\\n",
       "0                        10.1007/10703040_16   \n",
       "1                            10.1145/3011069   \n",
       "2                   10.1021/acs.jpcc.9b03963   \n",
       "3                     10.1515/jnet-2018-0099   \n",
       "9                  10.1016/j.nic.2017.09.005   \n",
       "...                                      ...   \n",
       "102290941  10.1016/j.compchemeng.2020.107178   \n",
       "102290942  10.1016/j.compchemeng.2020.107178   \n",
       "102290943  10.1016/j.compchemeng.2020.107178   \n",
       "102290944            10.14260/jemds/2018/500   \n",
       "102290945            10.14260/jemds/2018/500   \n",
       "\n",
       "                                       cited  citing_pub_year  cited_pub_year  \n",
       "0                          10.1115/1.2817010              NaN             NaN  \n",
       "1                         10.1007/bf01201353              NaN             NaN  \n",
       "2                          10.1002/jcc.20495              NaN          2006.0  \n",
       "3                          10.3390/e21030240              NaN             NaN  \n",
       "9           10.1016/j.neuroimage.2012.06.064              NaN          2012.0  \n",
       "...                                      ...              ...             ...  \n",
       "102290941  10.1016/j.compchemeng.2012.11.011              NaN          2013.0  \n",
       "102290942  10.1016/j.compchemeng.2012.11.011              NaN          2013.0  \n",
       "102290943       10.1016/0959-1524(95)95945-a              NaN             NaN  \n",
       "102290944           10.1109/tsg.2015.2478971              NaN          2016.0  \n",
       "102290945           10.1109/tii.2017.2759502              NaN          2018.0  \n",
       "\n",
       "[48767108 rows x 5 columns]"
      ]
     },
     "execution_count": 19,
     "metadata": {},
     "output_type": "execute_result"
    }
   ],
   "source": [
    "cites1[cites1['citing_pub_year'].isna()]"
   ]
  },
  {
   "cell_type": "code",
   "execution_count": 25,
   "id": "30d209d4",
   "metadata": {},
   "outputs": [],
   "source": [
    "cites2 = cites1[~cites1['citing_pub_year'].isna()]"
   ]
  },
  {
   "cell_type": "code",
   "execution_count": 26,
   "id": "64038736",
   "metadata": {},
   "outputs": [
    {
     "data": {
      "text/plain": [
       "53523893"
      ]
     },
     "execution_count": 26,
     "metadata": {},
     "output_type": "execute_result"
    }
   ],
   "source": [
    "len(cites2)"
   ]
  },
  {
   "cell_type": "code",
   "execution_count": 34,
   "id": "40d9666d",
   "metadata": {},
   "outputs": [],
   "source": [
    "cites2.to_csv('preprocessed_data/oc_yrcleaned.csv')"
   ]
  },
  {
   "cell_type": "markdown",
   "id": "620d617d",
   "metadata": {},
   "source": [
    "#### get highly cited"
   ]
  },
  {
   "cell_type": "code",
   "execution_count": 27,
   "id": "4347afca",
   "metadata": {},
   "outputs": [],
   "source": [
    "cits_counts = cites2.groupby(['cited']).agg({'citing':'count'}).reset_index()"
   ]
  },
  {
   "cell_type": "code",
   "execution_count": 28,
   "id": "a2b69ee7",
   "metadata": {},
   "outputs": [
    {
     "data": {
      "text/html": [
       "<div>\n",
       "<style scoped>\n",
       "    .dataframe tbody tr th:only-of-type {\n",
       "        vertical-align: middle;\n",
       "    }\n",
       "\n",
       "    .dataframe tbody tr th {\n",
       "        vertical-align: top;\n",
       "    }\n",
       "\n",
       "    .dataframe thead th {\n",
       "        text-align: right;\n",
       "    }\n",
       "</style>\n",
       "<table border=\"1\" class=\"dataframe\">\n",
       "  <thead>\n",
       "    <tr style=\"text-align: right;\">\n",
       "      <th></th>\n",
       "      <th>cited</th>\n",
       "      <th>citing</th>\n",
       "    </tr>\n",
       "  </thead>\n",
       "  <tbody>\n",
       "    <tr>\n",
       "      <th>2591179</th>\n",
       "      <td>10.1023/b:visi.0000029664.99615.94</td>\n",
       "      <td>26367</td>\n",
       "    </tr>\n",
       "    <tr>\n",
       "      <th>2182854</th>\n",
       "      <td>10.1016/s0019-9958(65)90241-x</td>\n",
       "      <td>13140</td>\n",
       "    </tr>\n",
       "    <tr>\n",
       "      <th>4703268</th>\n",
       "      <td>10.1109/tip.2003.819861</td>\n",
       "      <td>13085</td>\n",
       "    </tr>\n",
       "    <tr>\n",
       "      <th>3633072</th>\n",
       "      <td>10.1109/4235.996017</td>\n",
       "      <td>12698</td>\n",
       "    </tr>\n",
       "    <tr>\n",
       "      <th>5360460</th>\n",
       "      <td>10.1145/1961189.1961199</td>\n",
       "      <td>12604</td>\n",
       "    </tr>\n",
       "    <tr>\n",
       "      <th>...</th>\n",
       "      <td>...</td>\n",
       "      <td>...</td>\n",
       "    </tr>\n",
       "    <tr>\n",
       "      <th>2954850</th>\n",
       "      <td>10.1071/wf13219</td>\n",
       "      <td>1</td>\n",
       "    </tr>\n",
       "    <tr>\n",
       "      <th>2954851</th>\n",
       "      <td>10.1071/wf14005</td>\n",
       "      <td>1</td>\n",
       "    </tr>\n",
       "    <tr>\n",
       "      <th>2954853</th>\n",
       "      <td>10.1071/wf14029</td>\n",
       "      <td>1</td>\n",
       "    </tr>\n",
       "    <tr>\n",
       "      <th>2954855</th>\n",
       "      <td>10.1071/wf14034</td>\n",
       "      <td>1</td>\n",
       "    </tr>\n",
       "    <tr>\n",
       "      <th>6695581</th>\n",
       "      <td>10.9799/ksfan.2016.29.4.565</td>\n",
       "      <td>1</td>\n",
       "    </tr>\n",
       "  </tbody>\n",
       "</table>\n",
       "<p>6695582 rows × 2 columns</p>\n",
       "</div>"
      ],
      "text/plain": [
       "                                      cited  citing\n",
       "2591179  10.1023/b:visi.0000029664.99615.94   26367\n",
       "2182854       10.1016/s0019-9958(65)90241-x   13140\n",
       "4703268             10.1109/tip.2003.819861   13085\n",
       "3633072                 10.1109/4235.996017   12698\n",
       "5360460             10.1145/1961189.1961199   12604\n",
       "...                                     ...     ...\n",
       "2954850                     10.1071/wf13219       1\n",
       "2954851                     10.1071/wf14005       1\n",
       "2954853                     10.1071/wf14029       1\n",
       "2954855                     10.1071/wf14034       1\n",
       "6695581         10.9799/ksfan.2016.29.4.565       1\n",
       "\n",
       "[6695582 rows x 2 columns]"
      ]
     },
     "execution_count": 28,
     "metadata": {},
     "output_type": "execute_result"
    }
   ],
   "source": [
    "cits_counts.sort_values(by='citing', ascending=False)"
   ]
  },
  {
   "cell_type": "code",
   "execution_count": 29,
   "id": "f2eba9dd",
   "metadata": {},
   "outputs": [],
   "source": [
    "top20 = cits_counts[cits_counts['citing'] >= cits_counts['citing'].quantile(0.95)]"
   ]
  },
  {
   "cell_type": "code",
   "execution_count": 33,
   "id": "2e317fb6",
   "metadata": {},
   "outputs": [
    {
     "data": {
      "text/html": [
       "<div>\n",
       "<style scoped>\n",
       "    .dataframe tbody tr th:only-of-type {\n",
       "        vertical-align: middle;\n",
       "    }\n",
       "\n",
       "    .dataframe tbody tr th {\n",
       "        vertical-align: top;\n",
       "    }\n",
       "\n",
       "    .dataframe thead th {\n",
       "        text-align: right;\n",
       "    }\n",
       "</style>\n",
       "<table border=\"1\" class=\"dataframe\">\n",
       "  <thead>\n",
       "    <tr style=\"text-align: right;\">\n",
       "      <th></th>\n",
       "      <th>cited</th>\n",
       "      <th>citing</th>\n",
       "    </tr>\n",
       "  </thead>\n",
       "  <tbody>\n",
       "    <tr>\n",
       "      <th>2591179</th>\n",
       "      <td>10.1023/b:visi.0000029664.99615.94</td>\n",
       "      <td>26367</td>\n",
       "    </tr>\n",
       "    <tr>\n",
       "      <th>2182854</th>\n",
       "      <td>10.1016/s0019-9958(65)90241-x</td>\n",
       "      <td>13140</td>\n",
       "    </tr>\n",
       "    <tr>\n",
       "      <th>4703268</th>\n",
       "      <td>10.1109/tip.2003.819861</td>\n",
       "      <td>13085</td>\n",
       "    </tr>\n",
       "    <tr>\n",
       "      <th>3633072</th>\n",
       "      <td>10.1109/4235.996017</td>\n",
       "      <td>12698</td>\n",
       "    </tr>\n",
       "    <tr>\n",
       "      <th>5360460</th>\n",
       "      <td>10.1145/1961189.1961199</td>\n",
       "      <td>12604</td>\n",
       "    </tr>\n",
       "    <tr>\n",
       "      <th>...</th>\n",
       "      <td>...</td>\n",
       "      <td>...</td>\n",
       "    </tr>\n",
       "    <tr>\n",
       "      <th>4340859</th>\n",
       "      <td>10.1109/jsac.2016.2520218</td>\n",
       "      <td>28</td>\n",
       "    </tr>\n",
       "    <tr>\n",
       "      <th>604483</th>\n",
       "      <td>10.1007/978-3-642-40137-4</td>\n",
       "      <td>28</td>\n",
       "    </tr>\n",
       "    <tr>\n",
       "      <th>2265258</th>\n",
       "      <td>10.1016/s0167-8655(01)00177-5</td>\n",
       "      <td>28</td>\n",
       "    </tr>\n",
       "    <tr>\n",
       "      <th>3059781</th>\n",
       "      <td>10.1080/014311698215315</td>\n",
       "      <td>28</td>\n",
       "    </tr>\n",
       "    <tr>\n",
       "      <th>564455</th>\n",
       "      <td>10.1007/978-3-642-21424-0_2</td>\n",
       "      <td>28</td>\n",
       "    </tr>\n",
       "  </tbody>\n",
       "</table>\n",
       "<p>348886 rows × 2 columns</p>\n",
       "</div>"
      ],
      "text/plain": [
       "                                      cited  citing\n",
       "2591179  10.1023/b:visi.0000029664.99615.94   26367\n",
       "2182854       10.1016/s0019-9958(65)90241-x   13140\n",
       "4703268             10.1109/tip.2003.819861   13085\n",
       "3633072                 10.1109/4235.996017   12698\n",
       "5360460             10.1145/1961189.1961199   12604\n",
       "...                                     ...     ...\n",
       "4340859           10.1109/jsac.2016.2520218      28\n",
       "604483            10.1007/978-3-642-40137-4      28\n",
       "2265258       10.1016/s0167-8655(01)00177-5      28\n",
       "3059781             10.1080/014311698215315      28\n",
       "564455          10.1007/978-3-642-21424-0_2      28\n",
       "\n",
       "[348886 rows x 2 columns]"
      ]
     },
     "execution_count": 33,
     "metadata": {},
     "output_type": "execute_result"
    }
   ],
   "source": [
    "top20.sort_values(by='citing', ascending=False)"
   ]
  },
  {
   "cell_type": "code",
   "execution_count": 42,
   "id": "5fd0521b",
   "metadata": {},
   "outputs": [
    {
     "data": {
      "image/png": "[encoded data removed]",
      "text/plain": [
       "<Figure size 640x480 with 1 Axes>"
      ]
     },
     "metadata": {},
     "output_type": "display_data"
    }
   ],
   "source": [
    "plt.hist(top20['citing'],bins=150)\n",
    "plt.show()"
   ]
  },
  {
   "cell_type": "code",
   "execution_count": 46,
   "id": "d4ca18cb",
   "metadata": {},
   "outputs": [],
   "source": [
    "cites4 = cites2.drop_duplicates(subset=['citing','cited'],keep='first')"
   ]
  },
  {
   "cell_type": "code",
   "execution_count": 47,
   "id": "63d345c6",
   "metadata": {},
   "outputs": [
    {
     "data": {
      "text/plain": [
       "35212334"
      ]
     },
     "execution_count": 47,
     "metadata": {},
     "output_type": "execute_result"
    }
   ],
   "source": [
    "len(cites4)"
   ]
  },
  {
   "cell_type": "code",
   "execution_count": 48,
   "id": "d1f35ba6",
   "metadata": {},
   "outputs": [],
   "source": [
    "cits_counts4 = cites4.groupby(['cited']).agg({'citing':'count'}).reset_index()"
   ]
  },
  {
   "cell_type": "code",
   "execution_count": 49,
   "id": "09f15374",
   "metadata": {},
   "outputs": [
    {
     "data": {
      "text/html": [
       "<div>\n",
       "<style scoped>\n",
       "    .dataframe tbody tr th:only-of-type {\n",
       "        vertical-align: middle;\n",
       "    }\n",
       "\n",
       "    .dataframe tbody tr th {\n",
       "        vertical-align: top;\n",
       "    }\n",
       "\n",
       "    .dataframe thead th {\n",
       "        text-align: right;\n",
       "    }\n",
       "</style>\n",
       "<table border=\"1\" class=\"dataframe\">\n",
       "  <thead>\n",
       "    <tr style=\"text-align: right;\">\n",
       "      <th></th>\n",
       "      <th>cited</th>\n",
       "      <th>citing</th>\n",
       "    </tr>\n",
       "  </thead>\n",
       "  <tbody>\n",
       "    <tr>\n",
       "      <th>2591179</th>\n",
       "      <td>10.1023/b:visi.0000029664.99615.94</td>\n",
       "      <td>13187</td>\n",
       "    </tr>\n",
       "    <tr>\n",
       "      <th>2182854</th>\n",
       "      <td>10.1016/s0019-9958(65)90241-x</td>\n",
       "      <td>13140</td>\n",
       "    </tr>\n",
       "    <tr>\n",
       "      <th>2408253</th>\n",
       "      <td>10.1017/cbo9780511804441</td>\n",
       "      <td>11158</td>\n",
       "    </tr>\n",
       "    <tr>\n",
       "      <th>2565327</th>\n",
       "      <td>10.1023/a:1010933404324</td>\n",
       "      <td>9883</td>\n",
       "    </tr>\n",
       "    <tr>\n",
       "      <th>30322</th>\n",
       "      <td>10.1002/0471200611</td>\n",
       "      <td>6881</td>\n",
       "    </tr>\n",
       "    <tr>\n",
       "      <th>...</th>\n",
       "      <td>...</td>\n",
       "      <td>...</td>\n",
       "    </tr>\n",
       "    <tr>\n",
       "      <th>2967787</th>\n",
       "      <td>10.1073/pnas.1200603109</td>\n",
       "      <td>1</td>\n",
       "    </tr>\n",
       "    <tr>\n",
       "      <th>2967790</th>\n",
       "      <td>10.1073/pnas.1200677109</td>\n",
       "      <td>1</td>\n",
       "    </tr>\n",
       "    <tr>\n",
       "      <th>2967792</th>\n",
       "      <td>10.1073/pnas.120069197</td>\n",
       "      <td>1</td>\n",
       "    </tr>\n",
       "    <tr>\n",
       "      <th>2967793</th>\n",
       "      <td>10.1073/pnas.1200697109</td>\n",
       "      <td>1</td>\n",
       "    </tr>\n",
       "    <tr>\n",
       "      <th>6695581</th>\n",
       "      <td>10.9799/ksfan.2016.29.4.565</td>\n",
       "      <td>1</td>\n",
       "    </tr>\n",
       "  </tbody>\n",
       "</table>\n",
       "<p>6695582 rows × 2 columns</p>\n",
       "</div>"
      ],
      "text/plain": [
       "                                      cited  citing\n",
       "2591179  10.1023/b:visi.0000029664.99615.94   13187\n",
       "2182854       10.1016/s0019-9958(65)90241-x   13140\n",
       "2408253            10.1017/cbo9780511804441   11158\n",
       "2565327             10.1023/a:1010933404324    9883\n",
       "30322                    10.1002/0471200611    6881\n",
       "...                                     ...     ...\n",
       "2967787             10.1073/pnas.1200603109       1\n",
       "2967790             10.1073/pnas.1200677109       1\n",
       "2967792              10.1073/pnas.120069197       1\n",
       "2967793             10.1073/pnas.1200697109       1\n",
       "6695581         10.9799/ksfan.2016.29.4.565       1\n",
       "\n",
       "[6695582 rows x 2 columns]"
      ]
     },
     "execution_count": 49,
     "metadata": {},
     "output_type": "execute_result"
    }
   ],
   "source": [
    "cits_counts4.sort_values(by='citing', ascending=False)"
   ]
  },
  {
   "cell_type": "code",
   "execution_count": 64,
   "id": "b6650340",
   "metadata": {},
   "outputs": [],
   "source": [
    "top20 = cits_counts4[cits_counts4['citing'] >= cits_counts4['citing'].quantile(0.95)]"
   ]
  },
  {
   "cell_type": "code",
   "execution_count": 65,
   "id": "adf17349",
   "metadata": {},
   "outputs": [
    {
     "data": {
      "text/html": [
       "<div>\n",
       "<style scoped>\n",
       "    .dataframe tbody tr th:only-of-type {\n",
       "        vertical-align: middle;\n",
       "    }\n",
       "\n",
       "    .dataframe tbody tr th {\n",
       "        vertical-align: top;\n",
       "    }\n",
       "\n",
       "    .dataframe thead th {\n",
       "        text-align: right;\n",
       "    }\n",
       "</style>\n",
       "<table border=\"1\" class=\"dataframe\">\n",
       "  <thead>\n",
       "    <tr style=\"text-align: right;\">\n",
       "      <th></th>\n",
       "      <th>cited</th>\n",
       "      <th>citing</th>\n",
       "    </tr>\n",
       "  </thead>\n",
       "  <tbody>\n",
       "    <tr>\n",
       "      <th>2591179</th>\n",
       "      <td>10.1023/b:visi.0000029664.99615.94</td>\n",
       "      <td>13187</td>\n",
       "    </tr>\n",
       "    <tr>\n",
       "      <th>2182854</th>\n",
       "      <td>10.1016/s0019-9958(65)90241-x</td>\n",
       "      <td>13140</td>\n",
       "    </tr>\n",
       "    <tr>\n",
       "      <th>2408253</th>\n",
       "      <td>10.1017/cbo9780511804441</td>\n",
       "      <td>11158</td>\n",
       "    </tr>\n",
       "    <tr>\n",
       "      <th>2565327</th>\n",
       "      <td>10.1023/a:1010933404324</td>\n",
       "      <td>9883</td>\n",
       "    </tr>\n",
       "    <tr>\n",
       "      <th>30322</th>\n",
       "      <td>10.1002/0471200611</td>\n",
       "      <td>6881</td>\n",
       "    </tr>\n",
       "    <tr>\n",
       "      <th>...</th>\n",
       "      <td>...</td>\n",
       "      <td>...</td>\n",
       "    </tr>\n",
       "    <tr>\n",
       "      <th>4389573</th>\n",
       "      <td>10.1109/lsp.2012.2220349</td>\n",
       "      <td>18</td>\n",
       "    </tr>\n",
       "    <tr>\n",
       "      <th>143145</th>\n",
       "      <td>10.1002/j.1538-7305.1971.tb02591.x</td>\n",
       "      <td>18</td>\n",
       "    </tr>\n",
       "    <tr>\n",
       "      <th>671067</th>\n",
       "      <td>10.1007/bf00406415</td>\n",
       "      <td>18</td>\n",
       "    </tr>\n",
       "    <tr>\n",
       "      <th>4389682</th>\n",
       "      <td>10.1109/lsp.2013.2245503</td>\n",
       "      <td>18</td>\n",
       "    </tr>\n",
       "    <tr>\n",
       "      <th>5647560</th>\n",
       "      <td>10.1175/1520-0450(1999)038&lt;1526:eotahp&gt;2.0.co;2</td>\n",
       "      <td>18</td>\n",
       "    </tr>\n",
       "  </tbody>\n",
       "</table>\n",
       "<p>335123 rows × 2 columns</p>\n",
       "</div>"
      ],
      "text/plain": [
       "                                                   cited  citing\n",
       "2591179               10.1023/b:visi.0000029664.99615.94   13187\n",
       "2182854                    10.1016/s0019-9958(65)90241-x   13140\n",
       "2408253                         10.1017/cbo9780511804441   11158\n",
       "2565327                          10.1023/a:1010933404324    9883\n",
       "30322                                 10.1002/0471200611    6881\n",
       "...                                                  ...     ...\n",
       "4389573                         10.1109/lsp.2012.2220349      18\n",
       "143145                10.1002/j.1538-7305.1971.tb02591.x      18\n",
       "671067                                10.1007/bf00406415      18\n",
       "4389682                         10.1109/lsp.2013.2245503      18\n",
       "5647560  10.1175/1520-0450(1999)038<1526:eotahp>2.0.co;2      18\n",
       "\n",
       "[335123 rows x 2 columns]"
      ]
     },
     "execution_count": 65,
     "metadata": {},
     "output_type": "execute_result"
    }
   ],
   "source": [
    "top20.sort_values(by='citing',ascending=False)"
   ]
  },
  {
   "cell_type": "code",
   "execution_count": 66,
   "id": "460787e0",
   "metadata": {},
   "outputs": [],
   "source": [
    "top5percn = aminer[aminer['doi'].isin(top20['cited'].values)]"
   ]
  },
  {
   "cell_type": "code",
   "execution_count": 67,
   "id": "61ea71ec",
   "metadata": {},
   "outputs": [
    {
     "data": {
      "text/plain": [
       "0.0662083804252986"
      ]
     },
     "execution_count": 67,
     "metadata": {},
     "output_type": "execute_result"
    }
   ],
   "source": [
    "len(top5percn)/len(aminer)"
   ]
  },
  {
   "cell_type": "code",
   "execution_count": 68,
   "id": "b0fe9253",
   "metadata": {},
   "outputs": [
    {
     "data": {
      "text/plain": [
       "184998"
      ]
     },
     "execution_count": 68,
     "metadata": {},
     "output_type": "execute_result"
    }
   ],
   "source": [
    "len(top5percn)"
   ]
  },
  {
   "cell_type": "code",
   "execution_count": 69,
   "id": "e5a8d1f4",
   "metadata": {},
   "outputs": [],
   "source": [
    "cites4.to_csv(\"preprocessed_data/oc_yrcleaned.csv\")"
   ]
  },
  {
   "cell_type": "code",
   "execution_count": 78,
   "id": "210a69a2",
   "metadata": {},
   "outputs": [],
   "source": [
    "top5percn = top5percn[top5percn['year']>=1950]"
   ]
  },
  {
   "cell_type": "code",
   "execution_count": 80,
   "id": "513280e8",
   "metadata": {},
   "outputs": [
    {
     "data": {
      "text/plain": [
       "0.0662044436682273"
      ]
     },
     "execution_count": 80,
     "metadata": {},
     "output_type": "execute_result"
    }
   ],
   "source": [
    "len(top5percn)/len(aminer)"
   ]
  },
  {
   "cell_type": "code",
   "execution_count": 79,
   "id": "4961de53",
   "metadata": {},
   "outputs": [],
   "source": [
    "top5percn.to_csv(\"preprocessed_data/top5percn_cited_aminer.csv\")"
   ]
  }
 ],
 "metadata": {
  "kernelspec": {
   "display_name": "Python 3 (ipykernel)",
   "language": "python",
   "name": "python3"
  },
  "language_info": {
   "codemirror_mode": {
    "name": "ipython",
    "version": 3
   },
   "file_extension": ".py",
   "mimetype": "text/x-python",
   "name": "python",
   "nbconvert_exporter": "python",
   "pygments_lexer": "ipython3",
   "version": "3.8.7"
  }
 },
 "nbformat": 4,
 "nbformat_minor": 5
}
