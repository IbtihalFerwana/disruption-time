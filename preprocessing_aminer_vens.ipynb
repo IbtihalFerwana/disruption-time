{
 "cells": [
  {
   "cell_type": "code",
   "execution_count": 137,
   "id": "c99b5ac3",
   "metadata": {},
   "outputs": [],
   "source": [
    "import pandas as pd\n",
    "import numpy as np\n",
    "import json\n",
    "import matplotlib.pyplot as plt"
   ]
  },
  {
   "cell_type": "code",
   "execution_count": null,
   "id": "46e1ce39",
   "metadata": {},
   "outputs": [],
   "source": []
  },
  {
   "cell_type": "code",
   "execution_count": 10,
   "id": "4b43f27d",
   "metadata": {
    "collapsed": true
   },
   "outputs": [
    {
     "name": "stderr",
     "output_type": "stream",
     "text": [
      "/var/folders/5l/2d23jjhs3zjdnkx4dld_ppyh0000gn/T/ipykernel_51581/1157456617.py:1: DtypeWarning: Columns (0,6,15) have mixed types. Specify dtype option on import or set low_memory=False.\n",
      "  df = pd.read_csv('aminer_proc_complete_cols.csv',index_col=0)\n"
     ]
    }
   ],
   "source": [
    "df = pd.read_csv('aminer_proc_complete_cols.csv',index_col=0)"
   ]
  },
  {
   "cell_type": "code",
   "execution_count": 12,
   "id": "b8d2f62c",
   "metadata": {},
   "outputs": [
    {
     "data": {
      "text/plain": [
       "3994558"
      ]
     },
     "execution_count": 12,
     "metadata": {},
     "output_type": "execute_result"
    }
   ],
   "source": [
    "len(df)"
   ]
  },
  {
   "cell_type": "code",
   "execution_count": 78,
   "id": "60a65371",
   "metadata": {},
   "outputs": [],
   "source": [
    "df1 = df[['title','year','keywords','authors','fos','doi','venue']]"
   ]
  },
  {
   "cell_type": "code",
   "execution_count": 80,
   "id": "43aa7ea4",
   "metadata": {},
   "outputs": [
    {
     "data": {
      "text/html": [
       "<div>\n",
       "<style scoped>\n",
       "    .dataframe tbody tr th:only-of-type {\n",
       "        vertical-align: middle;\n",
       "    }\n",
       "\n",
       "    .dataframe tbody tr th {\n",
       "        vertical-align: top;\n",
       "    }\n",
       "\n",
       "    .dataframe thead th {\n",
       "        text-align: right;\n",
       "    }\n",
       "</style>\n",
       "<table border=\"1\" class=\"dataframe\">\n",
       "  <thead>\n",
       "    <tr style=\"text-align: right;\">\n",
       "      <th></th>\n",
       "      <th>title</th>\n",
       "      <th>year</th>\n",
       "      <th>keywords</th>\n",
       "      <th>authors</th>\n",
       "      <th>fos</th>\n",
       "      <th>doi</th>\n",
       "      <th>venue</th>\n",
       "    </tr>\n",
       "  </thead>\n",
       "  <tbody>\n",
       "    <tr>\n",
       "      <th>1</th>\n",
       "      <td>The relationship between canopy parameters and...</td>\n",
       "      <td>2011.0</td>\n",
       "      <td>['canopy parameters', 'canopy spectrum', 'diff...</td>\n",
       "      <td>[{'_id': '53f45728dabfaec09f209538', 'name': '...</td>\n",
       "      <td>['Agronomy', 'Moisture', 'Hydrology', 'Environ...</td>\n",
       "      <td>10.1109/igarss.2011.6049503</td>\n",
       "      <td>{'_id': '53a7297d20f7420be8bd4ae7', 'name_d': ...</td>\n",
       "    </tr>\n",
       "    <tr>\n",
       "      <th>2</th>\n",
       "      <td>A solution to the problem of touching and brok...</td>\n",
       "      <td>1993.0</td>\n",
       "      <td>['handwriting recognition', 'prototypes', 'ima...</td>\n",
       "      <td>[{'_id': '53f46797dabfaeb22f542630', 'name': '...</td>\n",
       "      <td>['Intelligent character recognition', 'Pattern...</td>\n",
       "      <td>10.1109/icdar.1993.395663</td>\n",
       "      <td>{'_id': '53a72a4920f7420be8bfa51b', 'name_d': ...</td>\n",
       "    </tr>\n",
       "    <tr>\n",
       "      <th>3</th>\n",
       "      <td>Timing yield estimation using statistical stat...</td>\n",
       "      <td>2005.0</td>\n",
       "      <td>['sequential circuits', 'statistical distribut...</td>\n",
       "      <td>[{'_id': '53f43b03dabfaedce555bf2a', 'name': '...</td>\n",
       "      <td>['Delay calculation', 'Timing failure', 'Monte...</td>\n",
       "      <td>10.1109/iscas.2005.1465124</td>\n",
       "      <td>{'_id': '53a72e2020f7420be8c80142', 'name_d': ...</td>\n",
       "    </tr>\n",
       "    <tr>\n",
       "      <th>4</th>\n",
       "      <td>360°</td>\n",
       "      <td>2009.0</td>\n",
       "      <td>['global high technology', 'daily short-distan...</td>\n",
       "      <td>[{'_id': '53f46946dabfaec09f24b4ed', 'name': '...</td>\n",
       "      <td>NaN</td>\n",
       "      <td>10.1145/1665137.1665166</td>\n",
       "      <td>{'_id': '5390a74a20f70186a0e8b40b', 'raw': 'AC...</td>\n",
       "    </tr>\n",
       "    <tr>\n",
       "      <th>5</th>\n",
       "      <td>300</td>\n",
       "      <td>2007.0</td>\n",
       "      <td>[]</td>\n",
       "      <td>[{'gid': '5b869031e1cd8e14a34a782f', '_id': '5...</td>\n",
       "      <td>NaN</td>\n",
       "      <td>10.1145/1281740.1281746</td>\n",
       "      <td>{'_id': '5736ae3ad39c4f40a7976010', 'raw': 'SI...</td>\n",
       "    </tr>\n",
       "  </tbody>\n",
       "</table>\n",
       "</div>"
      ],
      "text/plain": [
       "                                               title    year  \\\n",
       "1  The relationship between canopy parameters and...  2011.0   \n",
       "2  A solution to the problem of touching and brok...  1993.0   \n",
       "3  Timing yield estimation using statistical stat...  2005.0   \n",
       "4                                               360°  2009.0   \n",
       "5                                                300  2007.0   \n",
       "\n",
       "                                            keywords  \\\n",
       "1  ['canopy parameters', 'canopy spectrum', 'diff...   \n",
       "2  ['handwriting recognition', 'prototypes', 'ima...   \n",
       "3  ['sequential circuits', 'statistical distribut...   \n",
       "4  ['global high technology', 'daily short-distan...   \n",
       "5                                                 []   \n",
       "\n",
       "                                             authors  \\\n",
       "1  [{'_id': '53f45728dabfaec09f209538', 'name': '...   \n",
       "2  [{'_id': '53f46797dabfaeb22f542630', 'name': '...   \n",
       "3  [{'_id': '53f43b03dabfaedce555bf2a', 'name': '...   \n",
       "4  [{'_id': '53f46946dabfaec09f24b4ed', 'name': '...   \n",
       "5  [{'gid': '5b869031e1cd8e14a34a782f', '_id': '5...   \n",
       "\n",
       "                                                 fos  \\\n",
       "1  ['Agronomy', 'Moisture', 'Hydrology', 'Environ...   \n",
       "2  ['Intelligent character recognition', 'Pattern...   \n",
       "3  ['Delay calculation', 'Timing failure', 'Monte...   \n",
       "4                                                NaN   \n",
       "5                                                NaN   \n",
       "\n",
       "                           doi  \\\n",
       "1  10.1109/igarss.2011.6049503   \n",
       "2    10.1109/icdar.1993.395663   \n",
       "3   10.1109/iscas.2005.1465124   \n",
       "4      10.1145/1665137.1665166   \n",
       "5      10.1145/1281740.1281746   \n",
       "\n",
       "                                               venue  \n",
       "1  {'_id': '53a7297d20f7420be8bd4ae7', 'name_d': ...  \n",
       "2  {'_id': '53a72a4920f7420be8bfa51b', 'name_d': ...  \n",
       "3  {'_id': '53a72e2020f7420be8c80142', 'name_d': ...  \n",
       "4  {'_id': '5390a74a20f70186a0e8b40b', 'raw': 'AC...  \n",
       "5  {'_id': '5736ae3ad39c4f40a7976010', 'raw': 'SI...  "
      ]
     },
     "execution_count": 80,
     "metadata": {},
     "output_type": "execute_result"
    }
   ],
   "source": [
    "df1.head()"
   ]
  },
  {
   "cell_type": "code",
   "execution_count": 86,
   "id": "188bc643",
   "metadata": {},
   "outputs": [
    {
     "data": {
      "text/plain": [
       "{'sid': 'IEEE ACCESS', 'issn': '2169-3536', 't': 'J', 'raw': 'IEEE ACCESS'}                                                                                                         28008\n",
       "{'sid': 'Lecture Notes in Computer Science', 'issn': '0302-9743', 'online_issn': '1611-3349', 't': 'J', 'raw': 'Lecture Notes in Computer Science'}                                 21510\n",
       "{'sid': 'SENSORS', 'online_issn': '1424-8220', 't': 'J', 'raw': 'SENSORS'}                                                                                                          18591\n",
       "{'sid': 'neuroimage', 'issn': '1053-8119', 't': 'J', 'raw': 'NeuroImage', 'publisher': 'Academic Press'}                                                                            15280\n",
       "{'sid': 'european-journal-of-operational-research', 'issn': '0377-2217', 't': 'J', 'raw': 'European Journal of Operational Research', 'publisher': 'North-Holland'}                 12183\n",
       "                                                                                                                                                                                    ...  \n",
       "{'_id': '55f8d7a0c35f4f6dfd415e86', 'type': '1', 'raw': 'The Journal of chemical physics'}                                                                                              1\n",
       "{'_id': '55f95803c35f4fb0d21ce1aa', 'name_d': 'Cortex', 'type': '1', 'raw': 'Transactions of the American Neurological Association', 'raw_zh': ''}                                      1\n",
       "{'_id': '55f8c578c35f4f6dfd415965', 'name_d': 'Archives of Ophthalmology', 'type': '1', 'raw': 'Archives of ophthalmology (Chicago, Ill. : 1960)', 'raw_zh': ''}                        1\n",
       "{'_id': '53e183a520f7dfbc07e8c867', 'name_d': 'Developmental Medicine & Child Neurology', 'type': '1', 'raw': 'Developmental medicine and child neurology', 'raw_zh': ''}               1\n",
       "{'_id': '5390bd4820f70186a0f45538', 'raw': \"CIAA'04 Proceedings of the 9th international conference on Implementation and Application of Automata\", 'raw_zh': None, 'type': '0'}        1\n",
       "Name: venue, Length: 113122, dtype: int64"
      ]
     },
     "execution_count": 86,
     "metadata": {},
     "output_type": "execute_result"
    }
   ],
   "source": [
    "df1['venue'].value_counts()"
   ]
  },
  {
   "cell_type": "code",
   "execution_count": null,
   "id": "d6cab2f8",
   "metadata": {},
   "outputs": [],
   "source": [
    "df1['venue'] = df1['venue'].astype(str)"
   ]
  },
  {
   "cell_type": "code",
   "execution_count": 100,
   "id": "08cee691",
   "metadata": {},
   "outputs": [],
   "source": [
    "df2 = df1[df1['venue']!='nan']"
   ]
  },
  {
   "cell_type": "code",
   "execution_count": null,
   "id": "79a9aacf",
   "metadata": {},
   "outputs": [],
   "source": [
    "df2['venue_name'] = df2.apply(lambda x:eval(x['venue']), axis=1)"
   ]
  },
  {
   "cell_type": "code",
   "execution_count": null,
   "id": "95519ee2",
   "metadata": {},
   "outputs": [],
   "source": [
    "df2['venue_name'] = df2.apply(lambda x:extract_ven(x['venue_name']), axis=1)"
   ]
  },
  {
   "cell_type": "code",
   "execution_count": 132,
   "id": "8d36e3e4",
   "metadata": {},
   "outputs": [],
   "source": [
    "df3 = df2[df2['venue_name']!=0]"
   ]
  },
  {
   "cell_type": "code",
   "execution_count": 133,
   "id": "8b4789b9",
   "metadata": {},
   "outputs": [
    {
     "data": {
      "text/plain": [
       "3983638"
      ]
     },
     "execution_count": 133,
     "metadata": {},
     "output_type": "execute_result"
    }
   ],
   "source": [
    "len(df3)"
   ]
  },
  {
   "cell_type": "code",
   "execution_count": 144,
   "id": "6890c8a4",
   "metadata": {},
   "outputs": [
    {
     "data": {
      "text/html": [
       "<div>\n",
       "<style scoped>\n",
       "    .dataframe tbody tr th:only-of-type {\n",
       "        vertical-align: middle;\n",
       "    }\n",
       "\n",
       "    .dataframe tbody tr th {\n",
       "        vertical-align: top;\n",
       "    }\n",
       "\n",
       "    .dataframe thead th {\n",
       "        text-align: right;\n",
       "    }\n",
       "</style>\n",
       "<table border=\"1\" class=\"dataframe\">\n",
       "  <thead>\n",
       "    <tr style=\"text-align: right;\">\n",
       "      <th></th>\n",
       "      <th>index</th>\n",
       "      <th>venue_name</th>\n",
       "    </tr>\n",
       "  </thead>\n",
       "  <tbody>\n",
       "    <tr>\n",
       "      <th>0</th>\n",
       "      <td>Lecture Notes in Computer Science</td>\n",
       "      <td>36187</td>\n",
       "    </tr>\n",
       "    <tr>\n",
       "      <th>1</th>\n",
       "      <td>SENSORS</td>\n",
       "      <td>28481</td>\n",
       "    </tr>\n",
       "    <tr>\n",
       "      <th>2</th>\n",
       "      <td>IEEE ACCESS</td>\n",
       "      <td>28013</td>\n",
       "    </tr>\n",
       "    <tr>\n",
       "      <th>3</th>\n",
       "      <td>neuroimage</td>\n",
       "      <td>15280</td>\n",
       "    </tr>\n",
       "    <tr>\n",
       "      <th>4</th>\n",
       "      <td>Communications in Computer and Information Sci...</td>\n",
       "      <td>13666</td>\n",
       "    </tr>\n",
       "  </tbody>\n",
       "</table>\n",
       "</div>"
      ],
      "text/plain": [
       "                                               index  venue_name\n",
       "0                  Lecture Notes in Computer Science       36187\n",
       "1                                            SENSORS       28481\n",
       "2                                        IEEE ACCESS       28013\n",
       "3                                         neuroimage       15280\n",
       "4  Communications in Computer and Information Sci...       13666"
      ]
     },
     "execution_count": 144,
     "metadata": {},
     "output_type": "execute_result"
    }
   ],
   "source": [
    "venues = pd.DataFrame(df3['venue_name'].value_counts()).reset_index()\n",
    "venues.head()"
   ]
  },
  {
   "cell_type": "code",
   "execution_count": 155,
   "id": "0415bd2e",
   "metadata": {
    "scrolled": true
   },
   "outputs": [
    {
     "data": {
      "image/png": "[encoded data removed]",
      "text/plain": [
       "<Figure size 640x480 with 1 Axes>"
      ]
     },
     "metadata": {},
     "output_type": "display_data"
    }
   ],
   "source": [
    "plt.bar(x=venues['index'][:20],height=venues['venue_name'][:20])\n",
    "plt.xticks(rotation=90)\n",
    "plt.show()"
   ]
  },
  {
   "cell_type": "code",
   "execution_count": 327,
   "id": "a0b6f97b",
   "metadata": {},
   "outputs": [],
   "source": [
    "phrases = '(^.*?[cC][oO][mM][pP].*)|(^.*?[Ii][nN][fF].*)|(^.*?ICASSP.*)|(^.*?[Ii][Ee][Ee][eE].*)|(^.*?[Ss][yY][sS].*)|(^.*?[Rr][oO][bB][oO].*)|(^.*?[nN][Ee][tT].*)|(^.*?[Ii][mM][aA][gG].*)|(^.*?[vV][iI][sS][iI].*)|(^.*?[Tt][eE][cC][hH].*)|(^.*?[Cc][oO][mM][mM].*)|(^.*?[pP][aA][tT][tT][eE].*)|(^.*?[Rr][eE][cC][oO][Gg].*)|(^.*?[Aa][rR][tT][iI][Ff].*)|(^.*?[Ii][nN][tT][eE][lL].*)|(^.*?[aA][uU][tT][oO][mM].*)|(^.*?[Cc][yY][bB][eE][Rr].*)|(^.*?[mM][aA][cC][hH][iI].*)|(^.*?[Ss][iI][gG].*)|(^.*?[kK][Dd][Dd].*)|(^.*?[wW][eE][bB].*)|(^.*?[Ss][oO][fF][tT][wW][aA].*)|(^.*?[pP][rR][oO][cC][eE][sS].*)|(^.*?[aA][lL][gG][oO][rR][Ii].*)|(^.*?[Gg][rR][aA][pP][hH][sS].*)|(^.*?[Dd][aA][tT][aA].*)|(^.*?[Mm][iI][nN][iI][Nn].*)|(^.*?[lL][oO][gG][iI][cC].*)|(^.*?[sS][eE][cC][uU].*)|(^.*?[cC][oO][rR][Rr].*)|(^.*?[jJ][aA][sS][iI][sS][tT].*)|(^.*?[hH][iI][cC][sS][sS].*)|(^.*?[oO][pP][tT][Ii][mM].*)|(^.*?[cC][oO][nN][tT][Rr].*)|(^.*?[sS][oO][cC][iI].*[cC][hh][oO][iI].*)|(^.*?[dD][iI][sS][cC][Rr].*)|(^.*?[sS][eE][nN][sS].*)|(^.*?[sS][cC][iI][eE][nN][Tt][oO].*)|(^.*?ICC.*)'"
   ]
  },
  {
   "cell_type": "code",
   "execution_count": 328,
   "id": "1484448d",
   "metadata": {},
   "outputs": [
    {
     "name": "stderr",
     "output_type": "stream",
     "text": [
      "/var/folders/5l/2d23jjhs3zjdnkx4dld_ppyh0000gn/T/ipykernel_51581/789128375.py:1: UserWarning: This pattern is interpreted as a regular expression, and has match groups. To actually get the groups, use str.extract.\n",
      "  proc = df3[df3['venue_name'].str.contains(phrases,na=False, case=False,regex=True)]\n"
     ]
    },
    {
     "data": {
      "text/plain": [
       "2794178"
      ]
     },
     "execution_count": 328,
     "metadata": {},
     "output_type": "execute_result"
    }
   ],
   "source": [
    "proc = df3[df3['venue_name'].str.contains(phrases,na=False, case=False,regex=True)]\n",
    "len(proc)"
   ]
  },
  {
   "cell_type": "code",
   "execution_count": 329,
   "id": "c177b77b",
   "metadata": {},
   "outputs": [
    {
     "data": {
      "text/plain": [
       "0.7014136324635923"
      ]
     },
     "execution_count": 329,
     "metadata": {},
     "output_type": "execute_result"
    }
   ],
   "source": [
    "len(proc)/len(df3)"
   ]
  },
  {
   "cell_type": "code",
   "execution_count": 268,
   "id": "5eae5159",
   "metadata": {},
   "outputs": [
    {
     "data": {
      "text/plain": [
       "3983638"
      ]
     },
     "execution_count": 268,
     "metadata": {},
     "output_type": "execute_result"
    }
   ],
   "source": [
    "len(df3)"
   ]
  },
  {
   "cell_type": "code",
   "execution_count": 331,
   "id": "b86f7698",
   "metadata": {},
   "outputs": [
    {
     "data": {
      "text/html": [
       "<div>\n",
       "<style scoped>\n",
       "    .dataframe tbody tr th:only-of-type {\n",
       "        vertical-align: middle;\n",
       "    }\n",
       "\n",
       "    .dataframe tbody tr th {\n",
       "        vertical-align: top;\n",
       "    }\n",
       "\n",
       "    .dataframe thead th {\n",
       "        text-align: right;\n",
       "    }\n",
       "</style>\n",
       "<table border=\"1\" class=\"dataframe\">\n",
       "  <thead>\n",
       "    <tr style=\"text-align: right;\">\n",
       "      <th></th>\n",
       "      <th>title</th>\n",
       "      <th>year</th>\n",
       "      <th>keywords</th>\n",
       "      <th>authors</th>\n",
       "      <th>fos</th>\n",
       "      <th>doi</th>\n",
       "      <th>venue</th>\n",
       "      <th>venue_name</th>\n",
       "    </tr>\n",
       "  </thead>\n",
       "  <tbody>\n",
       "    <tr>\n",
       "      <th>1</th>\n",
       "      <td>The relationship between canopy parameters and...</td>\n",
       "      <td>2011.0</td>\n",
       "      <td>['canopy parameters', 'canopy spectrum', 'diff...</td>\n",
       "      <td>[{'_id': '53f45728dabfaec09f209538', 'name': '...</td>\n",
       "      <td>['Agronomy', 'Moisture', 'Hydrology', 'Environ...</td>\n",
       "      <td>10.1109/igarss.2011.6049503</td>\n",
       "      <td>{'_id': '53a7297d20f7420be8bd4ae7', 'name_d': ...</td>\n",
       "      <td>International Geoscience and Remote Sensing Sy...</td>\n",
       "    </tr>\n",
       "    <tr>\n",
       "      <th>2</th>\n",
       "      <td>A solution to the problem of touching and brok...</td>\n",
       "      <td>1993.0</td>\n",
       "      <td>['handwriting recognition', 'prototypes', 'ima...</td>\n",
       "      <td>[{'_id': '53f46797dabfaeb22f542630', 'name': '...</td>\n",
       "      <td>['Intelligent character recognition', 'Pattern...</td>\n",
       "      <td>10.1109/icdar.1993.395663</td>\n",
       "      <td>{'_id': '53a72a4920f7420be8bfa51b', 'name_d': ...</td>\n",
       "      <td>International Conference on Document Analysis ...</td>\n",
       "    </tr>\n",
       "    <tr>\n",
       "      <th>3</th>\n",
       "      <td>Timing yield estimation using statistical stat...</td>\n",
       "      <td>2005.0</td>\n",
       "      <td>['sequential circuits', 'statistical distribut...</td>\n",
       "      <td>[{'_id': '53f43b03dabfaedce555bf2a', 'name': '...</td>\n",
       "      <td>['Delay calculation', 'Timing failure', 'Monte...</td>\n",
       "      <td>10.1109/iscas.2005.1465124</td>\n",
       "      <td>{'_id': '53a72e2020f7420be8c80142', 'name_d': ...</td>\n",
       "      <td>International Symposium on Circuits and Systems</td>\n",
       "    </tr>\n",
       "    <tr>\n",
       "      <th>4</th>\n",
       "      <td>360°</td>\n",
       "      <td>2009.0</td>\n",
       "      <td>['global high technology', 'daily short-distan...</td>\n",
       "      <td>[{'_id': '53f46946dabfaec09f24b4ed', 'name': '...</td>\n",
       "      <td>NaN</td>\n",
       "      <td>10.1145/1665137.1665166</td>\n",
       "      <td>{'_id': '5390a74a20f70186a0e8b40b', 'raw': 'AC...</td>\n",
       "      <td>ACM SIGGRAPH ASIA 2009 Art Gallery &amp; Emerging ...</td>\n",
       "    </tr>\n",
       "    <tr>\n",
       "      <th>5</th>\n",
       "      <td>300</td>\n",
       "      <td>2007.0</td>\n",
       "      <td>[]</td>\n",
       "      <td>[{'gid': '5b869031e1cd8e14a34a782f', '_id': '5...</td>\n",
       "      <td>NaN</td>\n",
       "      <td>10.1145/1281740.1281746</td>\n",
       "      <td>{'_id': '5736ae3ad39c4f40a7976010', 'raw': 'SI...</td>\n",
       "      <td>SIGGRAPH Computer Animation Festival</td>\n",
       "    </tr>\n",
       "  </tbody>\n",
       "</table>\n",
       "</div>"
      ],
      "text/plain": [
       "                                               title    year  \\\n",
       "1  The relationship between canopy parameters and...  2011.0   \n",
       "2  A solution to the problem of touching and brok...  1993.0   \n",
       "3  Timing yield estimation using statistical stat...  2005.0   \n",
       "4                                               360°  2009.0   \n",
       "5                                                300  2007.0   \n",
       "\n",
       "                                            keywords  \\\n",
       "1  ['canopy parameters', 'canopy spectrum', 'diff...   \n",
       "2  ['handwriting recognition', 'prototypes', 'ima...   \n",
       "3  ['sequential circuits', 'statistical distribut...   \n",
       "4  ['global high technology', 'daily short-distan...   \n",
       "5                                                 []   \n",
       "\n",
       "                                             authors  \\\n",
       "1  [{'_id': '53f45728dabfaec09f209538', 'name': '...   \n",
       "2  [{'_id': '53f46797dabfaeb22f542630', 'name': '...   \n",
       "3  [{'_id': '53f43b03dabfaedce555bf2a', 'name': '...   \n",
       "4  [{'_id': '53f46946dabfaec09f24b4ed', 'name': '...   \n",
       "5  [{'gid': '5b869031e1cd8e14a34a782f', '_id': '5...   \n",
       "\n",
       "                                                 fos  \\\n",
       "1  ['Agronomy', 'Moisture', 'Hydrology', 'Environ...   \n",
       "2  ['Intelligent character recognition', 'Pattern...   \n",
       "3  ['Delay calculation', 'Timing failure', 'Monte...   \n",
       "4                                                NaN   \n",
       "5                                                NaN   \n",
       "\n",
       "                           doi  \\\n",
       "1  10.1109/igarss.2011.6049503   \n",
       "2    10.1109/icdar.1993.395663   \n",
       "3   10.1109/iscas.2005.1465124   \n",
       "4      10.1145/1665137.1665166   \n",
       "5      10.1145/1281740.1281746   \n",
       "\n",
       "                                               venue  \\\n",
       "1  {'_id': '53a7297d20f7420be8bd4ae7', 'name_d': ...   \n",
       "2  {'_id': '53a72a4920f7420be8bfa51b', 'name_d': ...   \n",
       "3  {'_id': '53a72e2020f7420be8c80142', 'name_d': ...   \n",
       "4  {'_id': '5390a74a20f70186a0e8b40b', 'raw': 'AC...   \n",
       "5  {'_id': '5736ae3ad39c4f40a7976010', 'raw': 'SI...   \n",
       "\n",
       "                                          venue_name  \n",
       "1  International Geoscience and Remote Sensing Sy...  \n",
       "2  International Conference on Document Analysis ...  \n",
       "3    International Symposium on Circuits and Systems  \n",
       "4  ACM SIGGRAPH ASIA 2009 Art Gallery & Emerging ...  \n",
       "5               SIGGRAPH Computer Animation Festival  "
      ]
     },
     "execution_count": 331,
     "metadata": {},
     "output_type": "execute_result"
    }
   ],
   "source": [
    "proc.head()"
   ]
  },
  {
   "cell_type": "code",
   "execution_count": 332,
   "id": "4c54dd27",
   "metadata": {},
   "outputs": [],
   "source": [
    "proc.to_csv('preprocessed_data/aminer_computer.csv',chunksize=20000)"
   ]
  },
  {
   "cell_type": "code",
   "execution_count": 333,
   "id": "949f4173",
   "metadata": {},
   "outputs": [
    {
     "name": "stdout",
     "output_type": "stream",
     "text": [
      "aminer_computer.csv aminer_idx.csv      aminer_oc_oct13.csv\r\n"
     ]
    }
   ],
   "source": [
    "!ls preprocessed_data/"
   ]
  },
  {
   "cell_type": "code",
   "execution_count": null,
   "id": "6d5e0338",
   "metadata": {},
   "outputs": [],
   "source": [
    "%cd preprocessed_data/"
   ]
  },
  {
   "cell_type": "code",
   "execution_count": 330,
   "id": "f1c855a2",
   "metadata": {
    "scrolled": true
   },
   "outputs": [
    {
     "data": {
      "text/plain": [
       "Lecture Notes in Computer Science                                                   36187\n",
       "SENSORS                                                                             28481\n",
       "IEEE ACCESS                                                                         28013\n",
       "neuroimage                                                                          15280\n",
       "Communications in Computer and Information Science                                  13666\n",
       "ICASSP                                                                              13451\n",
       "International Conference of the IEEE Engineering in Medicine and Biology Society    13415\n",
       "REMOTE SENSING                                                                      13280\n",
       "IEEE Access                                                                         13168\n",
       "Systems, Man and Cybernetics                                                        12752\n",
       "International Symposium on Circuits and Systems                                     12690\n",
       "International Conference on Robotics and Automation                                 12035\n",
       "Discrete Mathematics                                                                11726\n",
       "Human Factors in Computing Systems                                                  11613\n",
       "International Conference on Image Processing                                        11198\n",
       "IEEE Transactions on Information Theory                                             11031\n",
       "IEEE Transactions on Signal Processing                                              10940\n",
       "IEEE Transactions on Industrial Electronics                                         10677\n",
       "Intelligent Robots and Systems                                                      10461\n",
       "IEEE Transactions on Communications                                                 10290\n",
       "International Geoscience and Remote Sensing Symposium                               10114\n",
       "BIOINFORMATICS                                                                       9673\n",
       "applied-mathematics-and-computation                                                  9620\n",
       "BMC Bioinformatics                                                                   9605\n",
       "Applied Mathematics and Computation                                                  9585\n",
       "Vehicular Technology Conference                                                      9360\n",
       "IEEE Transactions on Vehicular Technology                                            8404\n",
       "Wireless Personal Communications                                                     8349\n",
       "IEEE Transactions on Geoscience and Remote Sensing                                   8026\n",
       "Expert Syst. Appl.                                                                   7901\n",
       "IEEE Transactions on Wireless Communications                                         7769\n",
       "Theor. Comput. Sci.                                                                  7718\n",
       "IEEE Communications Letters                                                          7539\n",
       "neurocomputing                                                                       7478\n",
       "Studies in Health Technology and Informatics                                         7282\n",
       "International Conference on Pattern Recognition                                      6624\n",
       "Wireless Communications and Networking Conference                                    6591\n",
       "International Conference on Computer Graphics and Interactive Techniques             6495\n",
       "Conference on Decision and Control                                                   6271\n",
       "Computer Vision and Pattern Recognition                                              6248\n",
       "Commun. ACM                                                                          6233\n",
       "IEEE Transactions on Instrumentation and Measurement                                 6212\n",
       "Pattern Recognition                                                                  6172\n",
       "Hawaii International Conference on System Sciences                                   6071\n",
       "Global Communications Conference                                                     6016\n",
       "procedia-computer-science                                                            5976\n",
       "Neurocomputing                                                                       5950\n",
       "IEEE Transactions on Image Processing                                                5913\n",
       "IEEE Journal on Selected Areas in Communications                                     5892\n",
       "Scientometrics                                                                       5858\n",
       "Discrete Applied Mathematics                                                         5775\n",
       "Pattern Recognition Letters                                                          5531\n",
       "Genetic and Evolutionary Computation Conference                                      5510\n",
       "Signal Processing                                                                    5481\n",
       "ICC                                                                                  5413\n",
       "Lecture Notes in Artificial Intelligence                                             5409\n",
       "Personal, Indoor and Mobile Radio Communications                                     5403\n",
       "IEEE Computer                                                                        5334\n",
       "International Symposium on Neural Networks                                           5088\n",
       "Computer Communications                                                              4982\n",
       "Automatica                                                                           4969\n",
       "JOURNAL OF INTELLIGENT & FUZZY SYSTEMS                                               4872\n",
       "Design Automation Conference                                                         4729\n",
       "ACM Symposium on Applied Computing                                                   4714\n",
       "IEEE Signal Processing Letters                                                       4684\n",
       "Inf. Sci.                                                                            4590\n",
       "automatica                                                                           4571\n",
       "PLOS COMPUTATIONAL BIOLOGY                                                           4569\n",
       "Neural Computing and Applications                                                    4532\n",
       "IEEE Transactions on Biomedical Engineering                                          4505\n",
       "Bioinformatics                                                                       4505\n",
       "J. Comput. Physics                                                                   4505\n",
       "JOURNAL OF CHEMICAL INFORMATION AND MODELING                                         4413\n",
       "Computers & Mathematics with Applications                                            4410\n",
       "computer-physics-communications                                                      4409\n",
       "International Conference on Human-Computer Interaction                               4378\n",
       "computers-and-chemical-engineering                                                   4356\n",
       "International Conference on Communications                                           4327\n",
       "Lecture Notes in Business Information Processing                                     4323\n",
       "IEEE Transactions on Computers                                                       4238\n",
       "Computers & OR                                                                       4211\n",
       "IEEE International Conference on High Performance Computing, Data, and Analytics     4195\n",
       "Conference on Information and Knowledge Management                                   4143\n",
       "JOURNAL OF COMPUTATIONAL CHEMISTRY                                                   4135\n",
       "IEEE Communications Magazine                                                         4092\n",
       "Fuzzy Sets and Systems                                                               4062\n",
       "Information Processing Letters                                                       4042\n",
       "reliability-engineering-and-system-safety                                            4042\n",
       "Information Theory, IEEE Transactions                                                3988\n",
       "information-sciences                                                                 3981\n",
       "Communications, IEEE Transactions                                                    3951\n",
       "International Conference on Natural Computation                                      3854\n",
       "Robotics and Biomimetics                                                             3841\n",
       "computers-in-human-behavior                                                          3808\n",
       "expert-systems-with-applications                                                     3747\n",
       "Computer Networks                                                                    3742\n",
       "IEEE Transactions on Automatic Control                                               3719\n",
       "The Web Conference                                                                   3677\n",
       "International Conference on Computational Science and Its Applications               3616\n",
       "Journal of Systems and Software                                                      3573\n",
       "Name: venue_name, dtype: int64"
      ]
     },
     "execution_count": 330,
     "metadata": {},
     "output_type": "execute_result"
    }
   ],
   "source": [
    "pd.set_option('display.max_rows', 5500)\n",
    "\n",
    "proc['venue_name'].value_counts()[:100]"
   ]
  },
  {
   "cell_type": "code",
   "execution_count": 17,
   "id": "9bb61313",
   "metadata": {},
   "outputs": [],
   "source": [
    "# pd.set_option('display.max_columns', 2500)\n",
    "vens = pd.DataFrame(df['venue'].value_counts().reset_index())"
   ]
  },
  {
   "cell_type": "code",
   "execution_count": 57,
   "id": "7161d7a7",
   "metadata": {},
   "outputs": [],
   "source": [
    "vens['name'] = vens.apply(lambda x:x['name']['sid'] if 'sid' in x['name'] else 0, axis=1)"
   ]
  },
  {
   "cell_type": "code",
   "execution_count": 128,
   "id": "bcd61e5e",
   "metadata": {},
   "outputs": [],
   "source": [
    "def extract_ven(x):\n",
    "    if 'sid' in x:\n",
    "        if str.isdigit(x['sid']):\n",
    "            if 'name_d' in x:\n",
    "                return x['name_d']\n",
    "            elif 'raw'  in x:\n",
    "                return x['raw']\n",
    "        else:\n",
    "            return x['sid']\n",
    "    elif 'name_d' in x:\n",
    "        return x['name_d']\n",
    "    elif 'raw' in x:\n",
    "        return x['raw']\n",
    "    elif 'name' in x:\n",
    "        return x['name']\n",
    "    return 0"
   ]
  },
  {
   "cell_type": "code",
   "execution_count": 74,
   "id": "ef80c96f",
   "metadata": {},
   "outputs": [],
   "source": [
    "vens['name'] = vens.apply(lambda x:eval(x['index']), axis=1)"
   ]
  },
  {
   "cell_type": "code",
   "execution_count": 75,
   "id": "58ecb20b",
   "metadata": {},
   "outputs": [],
   "source": [
    "vens['name'] = vens.apply(lambda x:extract_ven(x['name']), axis=1)"
   ]
  }
 ],
 "metadata": {
  "kernelspec": {
   "display_name": "Python 3 (ipykernel)",
   "language": "python",
   "name": "python3"
  },
  "language_info": {
   "codemirror_mode": {
    "name": "ipython",
    "version": 3
   },
   "file_extension": ".py",
   "mimetype": "text/x-python",
   "name": "python",
   "nbconvert_exporter": "python",
   "pygments_lexer": "ipython3",
   "version": "3.8.7"
  }
 },
 "nbformat": 4,
 "nbformat_minor": 5
}
